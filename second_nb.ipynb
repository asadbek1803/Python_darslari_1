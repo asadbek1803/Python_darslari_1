{
  "nbformat": 4,
  "nbformat_minor": 0,
  "metadata": {
    "colab": {
      "provenance": [],
      "authorship_tag": "ABX9TyMSbrIN47+BZL+0u8Xo0c9v",
      "include_colab_link": true
    },
    "kernelspec": {
      "name": "python3",
      "display_name": "Python 3"
    },
    "language_info": {
      "name": "python"
    },
    "accelerator": "GPU",
    "gpuClass": "standard"
  },
  "cells": [
    {
      "cell_type": "markdown",
      "metadata": {
        "id": "view-in-github",
        "colab_type": "text"
      },
      "source": [
        "<a href=\"https://colab.research.google.com/github/asadbek1803/Python_darslari_1/blob/main/second_nb.ipynb\" target=\"_parent\"><img src=\"https://colab.research.google.com/assets/colab-badge.svg\" alt=\"Open In Colab\"/></a>"
      ]
    },
    {
      "cell_type": "markdown",
      "source": [
        "# Birinchi dars Mavzu: Google Colab \n",
        "- Kutubxonalarni o'rnatib olamiz\n",
        "- Ularni versiyalarini tekshiramiz\n",
        "- Google Colabni kompyuter GPUsi bilan bog'laymiz\n",
        "- Vazifa takrorlash "
      ],
      "metadata": {
        "id": "7OVbTuZtnRP_"
      }
    },
    {
      "cell_type": "markdown",
      "source": [
        "# *Kerakli kutubxonalar*"
      ],
      "metadata": {
        "id": "A9mevMbfn1IM"
      }
    },
    {
      "cell_type": "code",
      "execution_count": 1,
      "metadata": {
        "id": "xtByGLg6mqJ2"
      },
      "outputs": [],
      "source": [
        "import pandas as pd\n",
        "import torch"
      ]
    },
    {
      "cell_type": "markdown",
      "source": [
        "# *Tekshiruv GPU ulanganligi haqida*"
      ],
      "metadata": {
        "id": "Wuyd6HTjn-bS"
      }
    },
    {
      "cell_type": "code",
      "source": [
        "torch.cuda.is_available()"
      ],
      "metadata": {
        "colab": {
          "base_uri": "https://localhost:8080/"
        },
        "id": "EQiGZkSnm0dZ",
        "outputId": "96d513c6-a1f0-41ff-a536-6007c61894ec"
      },
      "execution_count": 2,
      "outputs": [
        {
          "output_type": "execute_result",
          "data": {
            "text/plain": [
              "True"
            ]
          },
          "metadata": {},
          "execution_count": 2
        }
      ]
    },
    {
      "cell_type": "code",
      "source": [
        "pd.__version__"
      ],
      "metadata": {
        "colab": {
          "base_uri": "https://localhost:8080/",
          "height": 36
        },
        "id": "D0ppkrQ_oKQj",
        "outputId": "f5997508-ed3b-4a95-f9c4-0acb2c3d3f79"
      },
      "execution_count": 4,
      "outputs": [
        {
          "output_type": "execute_result",
          "data": {
            "text/plain": [
              "'1.4.4'"
            ],
            "application/vnd.google.colaboratory.intrinsic+json": {
              "type": "string"
            }
          },
          "metadata": {},
          "execution_count": 4
        }
      ]
    },
    {
      "cell_type": "code",
      "source": [
        "from google.colab import drive\n",
        "drive.mount('/content/drive')"
      ],
      "metadata": {
        "id": "KA9jFd0YobyT"
      },
      "execution_count": null,
      "outputs": []
    },
    {
      "cell_type": "code",
      "source": [],
      "metadata": {
        "id": "KEOOUuR4oN4G"
      },
      "execution_count": null,
      "outputs": []
    }
  ]
}
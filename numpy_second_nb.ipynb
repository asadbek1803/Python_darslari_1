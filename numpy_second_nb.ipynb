{
  "nbformat": 4,
  "nbformat_minor": 0,
  "metadata": {
    "colab": {
      "provenance": [],
      "authorship_tag": "ABX9TyO9Zw74Odp4EmZ+kXpreHk6",
      "include_colab_link": true
    },
    "kernelspec": {
      "name": "python3",
      "display_name": "Python 3"
    },
    "language_info": {
      "name": "python"
    }
  },
  "cells": [
    {
      "cell_type": "markdown",
      "metadata": {
        "id": "view-in-github",
        "colab_type": "text"
      },
      "source": [
        "<a href=\"https://colab.research.google.com/github/asadbek1803/Python_darslari_1/blob/main/numpy_second_nb.ipynb\" target=\"_parent\"><img src=\"https://colab.research.google.com/assets/colab-badge.svg\" alt=\"Open In Colab\"/></a>"
      ]
    },
    {
      "cell_type": "markdown",
      "source": [
        "## Numpy kutubxonasi \n",
        "### *Mavzu: Massivlar yaratish*"
      ],
      "metadata": {
        "id": "OaFRnNOgsds7"
      }
    },
    {
      "cell_type": "code",
      "execution_count": 1,
      "metadata": {
        "id": "-c-HV7bBsT0e"
      },
      "outputs": [],
      "source": [
        "import numpy as np"
      ]
    },
    {
      "cell_type": "code",
      "source": [
        "print(np.__version__)"
      ],
      "metadata": {
        "colab": {
          "base_uri": "https://localhost:8080/"
        },
        "id": "c7dp397Esv2X",
        "outputId": "2812fd4b-d176-43da-eb0a-1f4587a73555"
      },
      "execution_count": 2,
      "outputs": [
        {
          "output_type": "stream",
          "name": "stdout",
          "text": [
            "1.22.4\n"
          ]
        }
      ]
    },
    {
      "cell_type": "code",
      "source": [
        "my_list = list(range(100000))\n",
        "my_array = np.array(range(100000))\n"
      ],
      "metadata": {
        "id": "F1x2DZMgs2UP"
      },
      "execution_count": 3,
      "outputs": []
    },
    {
      "cell_type": "code",
      "source": [
        "%time for _ in range(10): [x * 2 for x in my_list]"
      ],
      "metadata": {
        "colab": {
          "base_uri": "https://localhost:8080/"
        },
        "id": "R6_AtzcguF93",
        "outputId": "a8fbb888-638c-4eba-9ee4-27c4dcd21f05"
      },
      "execution_count": 4,
      "outputs": [
        {
          "output_type": "stream",
          "name": "stdout",
          "text": [
            "CPU times: user 67.7 ms, sys: 11 ms, total: 78.8 ms\n",
            "Wall time: 80.7 ms\n"
          ]
        }
      ]
    },
    {
      "cell_type": "code",
      "source": [
        "%time for _ in range(10): my_array*2"
      ],
      "metadata": {
        "colab": {
          "base_uri": "https://localhost:8080/"
        },
        "id": "7B6pnCk0uS2D",
        "outputId": "896e648e-a285-4139-f74c-1ae93b556306"
      },
      "execution_count": 5,
      "outputs": [
        {
          "output_type": "stream",
          "name": "stdout",
          "text": [
            "CPU times: user 2.86 ms, sys: 83 µs, total: 2.95 ms\n",
            "Wall time: 5.1 ms\n"
          ]
        }
      ]
    },
    {
      "cell_type": "code",
      "source": [
        "marta_k = 80.7/5.1\n",
        "print(f\"Numpy kutubxonasi massivlarni ikkiga ko'paytirishda Python list ma'lumolaridan {marta_k} marta kattaroq.\")"
      ],
      "metadata": {
        "colab": {
          "base_uri": "https://localhost:8080/"
        },
        "id": "IZoySTr3ufFy",
        "outputId": "a53d4c49-e8b7-4eef-99c9-0f356f32e6cd"
      },
      "execution_count": 7,
      "outputs": [
        {
          "output_type": "stream",
          "name": "stdout",
          "text": [
            "Numpy kutubxonasi massivlarni ikkiga ko'paytirishda Python list ma'lumolaridan 15.823529411764708 marta kattaroq.\n"
          ]
        }
      ]
    },
    {
      "cell_type": "code",
      "source": [],
      "metadata": {
        "id": "jiVsAGBeujC9"
      },
      "execution_count": null,
      "outputs": []
    }
  ]
}